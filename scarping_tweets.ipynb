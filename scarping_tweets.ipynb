{
 "cells": [
  {
   "cell_type": "markdown",
   "id": "04dca157",
   "metadata": {},
   "source": [
    "# Parsing data from twitter\n",
    "\n",
    "- Getting counts within time ranges.\n",
    "- Creating a time_ranges_with_timeperiod dataframe, that contains rows labeled with timeperiod based on tweet count thresholds.\n",
    "- Collecting tweets within detected time ranges.\n",
    "- Retreiving information on users whose tweets are collected.\n",
    "- Merging tweets and infirmation on users and saving into file balenciaga_scarped.pkl."
   ]
  },
  {
   "cell_type": "markdown",
   "id": "25c7fb96",
   "metadata": {},
   "source": [
    "# Libraries to import"
   ]
  },
  {
   "cell_type": "code",
   "execution_count": 3,
   "id": "efadf096",
   "metadata": {},
   "outputs": [
    {
     "name": "stderr",
     "output_type": "stream",
     "text": [
      "/Users/deryadurmush/.pyenv/versions/migration1/lib/python3.10/site-packages/tqdm/auto.py:21: TqdmWarning: IProgress not found. Please update jupyter and ipywidgets. See https://ipywidgets.readthedocs.io/en/stable/user_install.html\n",
      "  from .autonotebook import tqdm as notebook_tqdm\n"
     ]
    }
   ],
   "source": [
    "import tweepy\n",
    "import json\n",
    "import pandas as pd\n",
    "from tqdm.auto import tqdm\n",
    "import time\n",
    "import requests\n",
    "import matplotlib.pyplot as plt"
   ]
  },
  {
   "cell_type": "markdown",
   "id": "037cbb4e",
   "metadata": {},
   "source": [
    "# Twitter tokens\n",
    "Hided tokens for security measures."
   ]
  },
  {
   "cell_type": "code",
   "execution_count": 1,
   "id": "0f0f2749",
   "metadata": {},
   "outputs": [],
   "source": [
    "at = ''\n",
    "ats = ''\n",
    "bt = ''\n",
    "\n",
    "api_key = ''\n",
    "api_secret_key = ''\n",
    "access_token = ''\n",
    "access_token_secret = ''"
   ]
  },
  {
   "cell_type": "code",
   "execution_count": null,
   "id": "125b1f12",
   "metadata": {},
   "outputs": [],
   "source": [
    "def initialize_client():\n",
    "    return tweepy.Client(bearer_token=bt)"
   ]
  },
  {
   "cell_type": "markdown",
   "id": "bfc2cf3b",
   "metadata": {},
   "source": [
    "# Scarping time ranges for tweets parsing"
   ]
  },
  {
   "cell_type": "code",
   "execution_count": null,
   "id": "e2b90a1c",
   "metadata": {},
   "outputs": [],
   "source": [
    "def fetch_tweet_counts(client, search_query, pairs_arr, granularity='minute', wait_time=900):\n",
    "    \"\"\"\n",
    "    Fetches tweet counts for a single search query within specified time ranges.\n",
    "\n",
    "    Parameters:\n",
    "        client (tweepy.Client): Authenticated Tweepy client instance.\n",
    "        search_query (str): The search query (string).\n",
    "        pairs_arr (pd.DataFrame): DataFrame with 'start' and 'end' columns for time ranges.\n",
    "        granularity (str): Granularity for tweet counts ('minute', 'hour', 'day').\n",
    "        wait_time (int): Time to wait (in seconds) before retrying after an API rate limit error.\n",
    "\n",
    "    Returns:\n",
    "        pd.DataFrame: Combined DataFrame with tweet counts for the search query and time ranges.\n",
    "    \"\"\"\n",
    "    total_tweet_count = 0\n",
    "    dataframes = []\n",
    "\n",
    "    for i in range(pairs_arr.shape[0]):\n",
    "        start_time = pairs_arr['start'][i]\n",
    "        end_time = pairs_arr['end'][i]\n",
    "\n",
    "        try:\n",
    "            tweets = client.get_all_tweets_count(\n",
    "                query=search_query,\n",
    "                start_time=start_time,\n",
    "                end_time=end_time,\n",
    "                granularity=granularity\n",
    "            )\n",
    "\n",
    "            df = pd.DataFrame(tweets.data)\n",
    "            df['search_query'] = search_query\n",
    "\n",
    "            print(f\"{search_query}: {df['tweet_count'].sum()} tweets\")\n",
    "            total_tweet_count += df['tweet_count'].sum()\n",
    "            dataframes.append(df)\n",
    "\n",
    "        except Exception as e:\n",
    "            print(f\"Error: {e}. Entering waiting mode...\")\n",
    "            time.sleep(wait_time)\n",
    "            tweets = client.get_all_tweets_count(\n",
    "                query=search_query,\n",
    "                start_time=start_time,\n",
    "                end_time=end_time,\n",
    "                granularity=granularity\n",
    "            )\n",
    "            df = pd.DataFrame(tweets.data)\n",
    "            total_tweet_count += df['tweet_count'].sum()\n",
    "            dataframes.append(df)\n",
    "    result_df = pd.concat(dataframes, axis=0)\n",
    "    \n",
    "    return result_df\n"
   ]
  },
  {
   "cell_type": "code",
   "execution_count": null,
   "id": "7eb937cd",
   "metadata": {},
   "outputs": [],
   "source": [
    "client = initialize_client()\n",
    "\n",
    "search_query = 'balenciaga'\n",
    "dates = [str(i)[:-9] + 'T00:00:00Z' for i in pd.date_range(start='11/01/2022', periods=163)]\n",
    "pairs_arr = pd.DataFrame({'start':dates[:-1], 'end':dates[1:]})\n",
    "\n",
    "time_ranges = fetch_tweet_counts(client, search_query, pairs_arr)"
   ]
  },
  {
   "cell_type": "code",
   "execution_count": 39,
   "id": "4dbc6964",
   "metadata": {},
   "outputs": [],
   "source": [
    "dates = [str(i)[:-9] + 'T00:00:00Z' for i in pd.date_range(start='11/01/2022', periods=163)]\n",
    "pairs_arr = pd.DataFrame({'start':dates[:-1], 'end':dates[1:]})\n"
   ]
  },
  {
   "cell_type": "markdown",
   "id": "adc39353",
   "metadata": {},
   "source": [
    "Creating time_ranges_with_timeperiod dataframe, that contains rows labeled with timeperiod based on tweet count thresholds.\n",
    "\n",
    "- timeperiod = 1: Marks rows with cumulative tweet counts exceeding 450 or adjacent to rows exceeding the threshold.\n",
    "- timeperiod = 2: Marks rows with isolated large jumps in cumulative counts."
   ]
  },
  {
   "cell_type": "code",
   "execution_count": null,
   "id": "ddda93d0",
   "metadata": {},
   "outputs": [],
   "source": [
    "df_local = time_ranges.copy().reset_index(drop=True)\n",
    "\n",
    "counter = 0\n",
    "counter2 = 0\n",
    "\n",
    "for i in tqdm(range(1, df_local.shape[0]), desc=\"Assigning time periods\"):\n",
    "    counter2 += df_local['tweet_count'][i]\n",
    "\n",
    "    if df_local['tweet_count'][i] >= 450:\n",
    "        if df_local['tweet_count'][i - 1] < 450:\n",
    "            df_local.at[i - 1, 'timeperiod'] = 1\n",
    "        df_local.at[i, 'timeperiod'] = 1\n",
    "        counter = 0\n",
    "        counter2 = 0\n",
    "    elif counter2 >= 450 and 0 < counter < 450:\n",
    "        df_local.at[i - 1, 'timeperiod'] = 1\n",
    "        counter = df_local['tweet_count'][i]\n",
    "        counter2 = df_local['tweet_count'][i]\n",
    "    elif counter2 < 450 and counter < 450:\n",
    "        counter += df_local['tweet_count'][i]\n",
    "    elif counter == 0 and counter2 > 450:\n",
    "        df_local.at[i, 'timeperiod'] = 2\n",
    "        counter = 0\n",
    "        counter2 = 0\n",
    "\n",
    "time_ranges_with_timeperiod = df_local.reset_index(drop=True)"
   ]
  },
  {
   "cell_type": "markdown",
   "id": "659a39ec",
   "metadata": {},
   "source": [
    "No rows have timeperiod = 2, indicating there were no isolated spikes or non-contiguous periods where cumulative tweet counts exceeded 450."
   ]
  },
  {
   "cell_type": "code",
   "execution_count": 231,
   "id": "29bfaf90",
   "metadata": {},
   "outputs": [
    {
     "data": {
      "text/html": [
       "<div>\n",
       "<style scoped>\n",
       "    .dataframe tbody tr th:only-of-type {\n",
       "        vertical-align: middle;\n",
       "    }\n",
       "\n",
       "    .dataframe tbody tr th {\n",
       "        vertical-align: top;\n",
       "    }\n",
       "\n",
       "    .dataframe thead th {\n",
       "        text-align: right;\n",
       "    }\n",
       "</style>\n",
       "<table border=\"1\" class=\"dataframe\">\n",
       "  <thead>\n",
       "    <tr style=\"text-align: right;\">\n",
       "      <th></th>\n",
       "      <th>end</th>\n",
       "      <th>start</th>\n",
       "      <th>tweet_count</th>\n",
       "      <th>search_query</th>\n",
       "      <th>timeperiod</th>\n",
       "    </tr>\n",
       "  </thead>\n",
       "  <tbody>\n",
       "  </tbody>\n",
       "</table>\n",
       "</div>"
      ],
      "text/plain": [
       "Empty DataFrame\n",
       "Columns: [end, start, tweet_count, search_query, timeperiod]\n",
       "Index: []"
      ]
     },
     "execution_count": 231,
     "metadata": {},
     "output_type": "execute_result"
    }
   ],
   "source": [
    "time_ranges_with_timeperiod[time_ranges_with_timeperiod['timeperiod'] == 2]"
   ]
  },
  {
   "cell_type": "markdown",
   "id": "70c64164",
   "metadata": {},
   "source": [
    "Retrieves tweets within time periods scarped "
   ]
  },
  {
   "cell_type": "code",
   "execution_count": null,
   "id": "19fdbbc2",
   "metadata": {},
   "outputs": [],
   "source": [
    "def extract_geo(geo_data):\n",
    "    try:\n",
    "        return geo_data['place_id']\n",
    "    except (TypeError, KeyError):\n",
    "        return None\n",
    "\n",
    "\n",
    "def fetch_tweets(client, query, start_time, end_time):\n",
    "    return client.search_all_tweets(\n",
    "        query=query,\n",
    "        start_time=start_time,\n",
    "        end_time=end_time,\n",
    "        tweet_fields=[\"created_at\", \"text\", \"source\", 'author_id', 'public_metrics', 'geo', 'entities', 'lang'],\n",
    "        user_fields=[\"name\", \"username\", \"location\", \"verified\", \"description\"],\n",
    "        place_fields=['full_name', 'id', 'country', 'country_code', 'geo', 'name', 'place_type'],\n",
    "        max_results=500,\n",
    "        expansions=['author_id', 'geo.place_id']\n",
    "    )\n",
    "\n",
    "\n",
    "def process_tweets(tweets, search_query):\n",
    "    tweet_data = []\n",
    "    for tweet in tweets.data:\n",
    "        tweet_data.append([\n",
    "            tweet.id, tweet.text, tweet.author_id, extract_geo(tweet.geo), tweet.created_at,\n",
    "            tweet.lang, tweet.public_metrics.get('retweet_count', 0), tweet.public_metrics.get('reply_count', 0),\n",
    "            tweet.public_metrics.get('like_count', 0), tweet.public_metrics.get('quote_count', 0)\n",
    "        ])\n",
    "    df = pd.DataFrame(tweet_data, columns=[\n",
    "        'tweet_id', 'text', 'author_id', 'geo', 'created_at', 'lang',\n",
    "        'retweet_count', 'reply_count', 'like_count', 'quote_count'\n",
    "    ])\n",
    "    df['author_location'] = '-1'\n",
    "    df['country'] = 'No Country'\n",
    "    df['query'] = search_query\n",
    "    return df\n",
    "\n",
    "\n",
    "def fetch_all_tweets(time_ranges):\n",
    "    tweets_list = []\n",
    "    client = initialize_client()\n",
    "    request_counter = 0\n",
    "\n",
    "    for i in tqdm(range(time_ranges.shape[0]), desc=\"Fetching tweets\"):\n",
    "        query = time_ranges['search_query'][i]\n",
    "        start_time = time_ranges['start'][i]\n",
    "        end_time = time_ranges['end'][i]\n",
    "\n",
    "        try:\n",
    "            tweets = fetch_tweets(client, query, start_time, end_time)\n",
    "        except Exception:\n",
    "            time.sleep(5)\n",
    "            tweets = fetch_tweets(client, query, start_time, end_time)\n",
    "\n",
    "        request_counter += 1\n",
    "        if request_counter == 290:\n",
    "            time.sleep(900)\n",
    "            request_counter = 0\n",
    "\n",
    "        if tweets.meta['result_count'] > 0:\n",
    "            print(f\"Found {tweets.meta['result_count']} tweets for query '{query}'\")\n",
    "            df = process_tweets(tweets, query)\n",
    "            tweets_list.append(df)\n",
    "\n",
    "        time.sleep(1)\n",
    "\n",
    "    return pd.concat(tweets_list, axis=0) if tweets_list else pd.DataFrame()\n",
    "\n",
    "time_ranges = pd.DataFrame({\n",
    "    'search_query': ['balenciaga'], \n",
    "    'start': [pairs_arr['start'].min()], \n",
    "    'end': [pairs_arr['end'].max()]\n",
    "})\n",
    "\n",
    "tweets = fetch_all_tweets(time_ranges)\n"
   ]
  },
  {
   "cell_type": "markdown",
   "id": "dee67c3e",
   "metadata": {},
   "source": [
    "Retriving user's information"
   ]
  },
  {
   "cell_type": "code",
   "execution_count": 262,
   "id": "17ee36ac",
   "metadata": {},
   "outputs": [
    {
     "data": {
      "text/html": [
       "<div>\n",
       "<style scoped>\n",
       "    .dataframe tbody tr th:only-of-type {\n",
       "        vertical-align: middle;\n",
       "    }\n",
       "\n",
       "    .dataframe tbody tr th {\n",
       "        vertical-align: top;\n",
       "    }\n",
       "\n",
       "    .dataframe thead th {\n",
       "        text-align: right;\n",
       "    }\n",
       "</style>\n",
       "<table border=\"1\" class=\"dataframe\">\n",
       "  <thead>\n",
       "    <tr style=\"text-align: right;\">\n",
       "      <th></th>\n",
       "      <th>author_id</th>\n",
       "    </tr>\n",
       "  </thead>\n",
       "  <tbody>\n",
       "    <tr>\n",
       "      <th>0</th>\n",
       "      <td>1123166102995865600</td>\n",
       "    </tr>\n",
       "    <tr>\n",
       "      <th>1</th>\n",
       "      <td>1950852385</td>\n",
       "    </tr>\n",
       "    <tr>\n",
       "      <th>2</th>\n",
       "      <td>50073553</td>\n",
       "    </tr>\n",
       "    <tr>\n",
       "      <th>3</th>\n",
       "      <td>1388702657792159746</td>\n",
       "    </tr>\n",
       "    <tr>\n",
       "      <th>4</th>\n",
       "      <td>49987009</td>\n",
       "    </tr>\n",
       "    <tr>\n",
       "      <th>...</th>\n",
       "      <td>...</td>\n",
       "    </tr>\n",
       "    <tr>\n",
       "      <th>58067</th>\n",
       "      <td>198146259</td>\n",
       "    </tr>\n",
       "    <tr>\n",
       "      <th>58068</th>\n",
       "      <td>704059993</td>\n",
       "    </tr>\n",
       "    <tr>\n",
       "      <th>58069</th>\n",
       "      <td>1526758613775155200</td>\n",
       "    </tr>\n",
       "    <tr>\n",
       "      <th>58070</th>\n",
       "      <td>1235772718043316226</td>\n",
       "    </tr>\n",
       "    <tr>\n",
       "      <th>58071</th>\n",
       "      <td>1304480104446177280</td>\n",
       "    </tr>\n",
       "  </tbody>\n",
       "</table>\n",
       "<p>58072 rows × 1 columns</p>\n",
       "</div>"
      ],
      "text/plain": [
       "                 author_id\n",
       "0      1123166102995865600\n",
       "1               1950852385\n",
       "2                 50073553\n",
       "3      1388702657792159746\n",
       "4                 49987009\n",
       "...                    ...\n",
       "58067            198146259\n",
       "58068            704059993\n",
       "58069  1526758613775155200\n",
       "58070  1235772718043316226\n",
       "58071  1304480104446177280\n",
       "\n",
       "[58072 rows x 1 columns]"
      ]
     },
     "execution_count": 262,
     "metadata": {},
     "output_type": "execute_result"
    }
   ],
   "source": [
    "users_from_tweets = tweets['author_id'].unique()\n",
    "users = pd.DataFrame({'author_id':users_from_tweets})\n",
    "users"
   ]
  },
  {
   "cell_type": "code",
   "execution_count": null,
   "id": "1a4328be",
   "metadata": {},
   "outputs": [],
   "source": [
    "headers = {\n",
    "    'Authorization': f\"Bearer {bt}\",\n",
    "}\n",
    "\n",
    "profile_arr = []\n",
    "counter = 0\n",
    "\n",
    "for i in tqdm(range(users.shape[0] // 100 + 1)):\n",
    "    if counter == 295:\n",
    "        time.sleep(900)\n",
    "        counter = 0\n",
    "        \n",
    "    author_ids = ','.join([str(i) for i in users.iloc[i * 100:(i+1)*100, :]['author_id'].tolist()])\n",
    "    s = f\"https://api.twitter.com/2/users?ids={author_ids}&user.fields=location,name\"\n",
    "    response = requests.get(s, headers=headers)\n",
    "    r = json.loads(response.text)['data']\n",
    "    profile_arr.append(pd.DataFrame(r))\n",
    "    counter += 1"
   ]
  },
  {
   "cell_type": "code",
   "execution_count": 264,
   "id": "24112b56",
   "metadata": {},
   "outputs": [],
   "source": [
    "users = pd.concat(profile_arr, axis = 0).reset_index(drop=True)\n",
    "users = users.drop(columns = ['withheld']).drop_duplicates().reset_index(drop=True)\n",
    "users['loc1'] = users['location'].str.lower().fillna('no country')\n",
    "users['country'] = 'no country'\n",
    "users['id'] = users['id'].apply(int)"
   ]
  },
  {
   "cell_type": "markdown",
   "id": "8d572a02",
   "metadata": {},
   "source": [
    "Merging user's information and tweets"
   ]
  },
  {
   "cell_type": "code",
   "execution_count": null,
   "id": "6e713dd2",
   "metadata": {},
   "outputs": [],
   "source": [
    "combined_df = tweets.merge(users.rename(columns = {\"id\":'author_id'}), how = 'left', on = 'author_id')\n",
    "combined_df.to_pickle('balenciaga_scarped.pkl')"
   ]
  },
  {
   "cell_type": "markdown",
   "id": "638f6f03",
   "metadata": {},
   "source": [
    "Check of data"
   ]
  },
  {
   "cell_type": "code",
   "execution_count": 35,
   "id": "3c79b863",
   "metadata": {},
   "outputs": [
    {
     "data": {
      "text/plain": [
       "(2408492, 19)"
      ]
     },
     "execution_count": 35,
     "metadata": {},
     "output_type": "execute_result"
    }
   ],
   "source": [
    "df = pd.read_pickle('/Users/deryadurmush/Desktop/Jobs /balenciaga/balenciaga_scarped.pkl')\n",
    "df.shape"
   ]
  },
  {
   "cell_type": "code",
   "execution_count": 36,
   "id": "387f72e4",
   "metadata": {},
   "outputs": [
    {
     "data": {
      "image/png": "[encoded data removed]",
      "text/plain": [
       "<Figure size 1000x600 with 1 Axes>"
      ]
     },
     "metadata": {},
     "output_type": "display_data"
    }
   ],
   "source": [
    "df['timestamp'] = pd.to_datetime(df['created_at']).dt.tz_localize(None)\n",
    "\n",
    "df['date'] = df['timestamp'].dt.date\n",
    "daily_counts = df['date'].value_counts().sort_index()\n",
    "\n",
    "\n",
    "plt.figure(figsize=(10, 6))\n",
    "plt.plot(daily_counts.index, daily_counts.values, marker='o', linestyle='-', label='Daily Counts')\n",
    "plt.title('Daily Activity')\n",
    "plt.xlabel('Date')\n",
    "plt.ylabel('Count')\n",
    "plt.xticks(rotation=45)\n",
    "plt.grid(True)\n",
    "plt.legend()\n",
    "plt.tight_layout()\n",
    "plt.show()\n"
   ]
  }
 ],
 "metadata": {
  "kernelspec": {
   "display_name": "Python 3 (ipykernel)",
   "language": "python",
   "name": "python3"
  },
  "language_info": {
   "codemirror_mode": {
    "name": "ipython",
    "version": 3
   },
   "file_extension": ".py",
   "mimetype": "text/x-python",
   "name": "python",
   "nbconvert_exporter": "python",
   "pygments_lexer": "ipython3",
   "version": "3.10.11"
  }
 },
 "nbformat": 4,
 "nbformat_minor": 5
}
